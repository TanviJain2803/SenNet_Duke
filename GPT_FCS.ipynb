{
 "cells": [
  {
   "cell_type": "markdown",
   "metadata": {},
   "source": [
    "### Automated Analysis on SPADE tree using Chat GPT\n",
    "\n",
    "Pseudocode ->\n",
    "1. for cluser in n_cluster:\n",
    "    2. add binary outcome (in or not in cluster) for each event\n",
    "    3. Run random forest ML classifier, extract features\n",
    "    4. run SHAP and get negative/positive corr of extracted features\n",
    "    5. ask for annotation in Chat GPT -> save label\n",
    "6. add label attributes to nodes in tree\n",
    "7. visualise annotation\n"
   ]
  },
  {
   "cell_type": "code",
   "execution_count": 1,
   "metadata": {},
   "outputs": [
    {
     "name": "stderr",
     "output_type": "stream",
     "text": [
      "Using `tqdm.autonotebook.tqdm` in notebook mode. Use `tqdm.tqdm` instead to force console mode (e.g. in jupyter console)\n"
     ]
    }
   ],
   "source": [
    "from sklearn.ensemble import RandomForestClassifier\n",
    "from sklearn.feature_selection import SelectFromModel\n",
    "import numpy as np\n",
    "from ipywidgets import FloatProgress\n",
    "import shap\n",
    "import xgboost as xgb\n",
    "import pandas as pd\n",
    "import random\n",
    "import lightgbm as lgb"
   ]
  },
  {
   "cell_type": "code",
   "execution_count": 2,
   "metadata": {},
   "outputs": [],
   "source": [
    "og_data = pd.read_csv('GPT_df.csv', index_col=0)"
   ]
  },
  {
   "cell_type": "code",
   "execution_count": 3,
   "metadata": {},
   "outputs": [],
   "source": [
    "markers_list = ['c-kit', 'Sca-1', 'CD150', 'CD11b', 'B220', 'TCRB', 'CD4', 'CD8']"
   ]
  },
  {
   "cell_type": "code",
   "execution_count": 22,
   "metadata": {},
   "outputs": [],
   "source": [
    "outcome = np.zeros((og_data.shape[0],1))\n",
    "outcome[np.where(og_data['cluster_id']==1)] = 1\n",
    "og_data['cluster_outcome']  = outcome\n",
    "\n",
    " "
   ]
  },
  {
   "cell_type": "code",
   "execution_count": 23,
   "metadata": {},
   "outputs": [
    {
     "data": {
      "text/plain": [
       "(2000, 8)"
      ]
     },
     "execution_count": 23,
     "metadata": {},
     "output_type": "execute_result"
    }
   ],
   "source": [
    "in_cluster = np.array(random.choices(np.where(og_data['cluster_id']==1)[0],k=1000))\n",
    "out_cluster = np.array(random.choices(np.where(og_data['cluster_id']==0)[0],k=1000))\n",
    "ind = np.array([*in_cluster,*out_cluster])\n",
    "gpt_data = og_data.iloc[ind]\n",
    "X_train = gpt_data[markers_list].to_numpy()\n",
    "y_train = gpt_data['cluster_outcome']\n",
    "X_train.shape"
   ]
  },
  {
   "cell_type": "code",
   "execution_count": 16,
   "metadata": {},
   "outputs": [
    {
     "data": {
      "text/html": [
       "<div>\n",
       "<style scoped>\n",
       "    .dataframe tbody tr th:only-of-type {\n",
       "        vertical-align: middle;\n",
       "    }\n",
       "\n",
       "    .dataframe tbody tr th {\n",
       "        vertical-align: top;\n",
       "    }\n",
       "\n",
       "    .dataframe thead th {\n",
       "        text-align: right;\n",
       "    }\n",
       "</style>\n",
       "<table border=\"1\" class=\"dataframe\">\n",
       "  <thead>\n",
       "    <tr style=\"text-align: right;\">\n",
       "      <th></th>\n",
       "      <th>c-kit</th>\n",
       "      <th>Sca-1</th>\n",
       "      <th>CD150</th>\n",
       "      <th>CD11b</th>\n",
       "      <th>B220</th>\n",
       "      <th>TCRB</th>\n",
       "      <th>CD4</th>\n",
       "      <th>CD8</th>\n",
       "      <th>id_nearest</th>\n",
       "      <th>cluster_id</th>\n",
       "      <th>cluster_outcome</th>\n",
       "    </tr>\n",
       "  </thead>\n",
       "  <tbody>\n",
       "    <tr>\n",
       "      <th>246</th>\n",
       "      <td>0.170840</td>\n",
       "      <td>0.058342</td>\n",
       "      <td>0.324079</td>\n",
       "      <td>0.063562</td>\n",
       "      <td>0.419363</td>\n",
       "      <td>0.435346</td>\n",
       "      <td>0.477362</td>\n",
       "      <td>0.275370</td>\n",
       "      <td>4336</td>\n",
       "      <td>10</td>\n",
       "      <td>1.0</td>\n",
       "    </tr>\n",
       "    <tr>\n",
       "      <th>285</th>\n",
       "      <td>0.431730</td>\n",
       "      <td>0.047524</td>\n",
       "      <td>0.337411</td>\n",
       "      <td>0.096680</td>\n",
       "      <td>0.169587</td>\n",
       "      <td>0.426953</td>\n",
       "      <td>0.434441</td>\n",
       "      <td>0.159680</td>\n",
       "      <td>11057</td>\n",
       "      <td>10</td>\n",
       "      <td>1.0</td>\n",
       "    </tr>\n",
       "    <tr>\n",
       "      <th>302</th>\n",
       "      <td>0.446049</td>\n",
       "      <td>0.176925</td>\n",
       "      <td>0.392701</td>\n",
       "      <td>0.019766</td>\n",
       "      <td>0.059475</td>\n",
       "      <td>0.131753</td>\n",
       "      <td>0.399097</td>\n",
       "      <td>0.405762</td>\n",
       "      <td>91</td>\n",
       "      <td>10</td>\n",
       "      <td>1.0</td>\n",
       "    </tr>\n",
       "    <tr>\n",
       "      <th>328</th>\n",
       "      <td>0.505898</td>\n",
       "      <td>0.046471</td>\n",
       "      <td>0.094673</td>\n",
       "      <td>0.012622</td>\n",
       "      <td>0.054359</td>\n",
       "      <td>0.441575</td>\n",
       "      <td>0.178113</td>\n",
       "      <td>0.378276</td>\n",
       "      <td>96</td>\n",
       "      <td>10</td>\n",
       "      <td>1.0</td>\n",
       "    </tr>\n",
       "    <tr>\n",
       "      <th>370</th>\n",
       "      <td>0.505169</td>\n",
       "      <td>0.144324</td>\n",
       "      <td>0.410098</td>\n",
       "      <td>0.103517</td>\n",
       "      <td>0.104140</td>\n",
       "      <td>0.473182</td>\n",
       "      <td>0.492120</td>\n",
       "      <td>0.061145</td>\n",
       "      <td>107</td>\n",
       "      <td>10</td>\n",
       "      <td>1.0</td>\n",
       "    </tr>\n",
       "    <tr>\n",
       "      <th>...</th>\n",
       "      <td>...</td>\n",
       "      <td>...</td>\n",
       "      <td>...</td>\n",
       "      <td>...</td>\n",
       "      <td>...</td>\n",
       "      <td>...</td>\n",
       "      <td>...</td>\n",
       "      <td>...</td>\n",
       "      <td>...</td>\n",
       "      <td>...</td>\n",
       "      <td>...</td>\n",
       "    </tr>\n",
       "    <tr>\n",
       "      <th>49776</th>\n",
       "      <td>0.430169</td>\n",
       "      <td>0.125445</td>\n",
       "      <td>0.288438</td>\n",
       "      <td>0.183163</td>\n",
       "      <td>0.121120</td>\n",
       "      <td>0.462627</td>\n",
       "      <td>0.140920</td>\n",
       "      <td>0.409901</td>\n",
       "      <td>13453</td>\n",
       "      <td>10</td>\n",
       "      <td>1.0</td>\n",
       "    </tr>\n",
       "    <tr>\n",
       "      <th>49827</th>\n",
       "      <td>0.534458</td>\n",
       "      <td>0.056336</td>\n",
       "      <td>0.422924</td>\n",
       "      <td>0.102143</td>\n",
       "      <td>0.181072</td>\n",
       "      <td>0.377846</td>\n",
       "      <td>0.531782</td>\n",
       "      <td>0.446964</td>\n",
       "      <td>13469</td>\n",
       "      <td>10</td>\n",
       "      <td>1.0</td>\n",
       "    </tr>\n",
       "    <tr>\n",
       "      <th>49855</th>\n",
       "      <td>0.478745</td>\n",
       "      <td>0.066469</td>\n",
       "      <td>0.120834</td>\n",
       "      <td>0.019083</td>\n",
       "      <td>0.073650</td>\n",
       "      <td>0.136745</td>\n",
       "      <td>0.483308</td>\n",
       "      <td>0.473290</td>\n",
       "      <td>11201</td>\n",
       "      <td>10</td>\n",
       "      <td>1.0</td>\n",
       "    </tr>\n",
       "    <tr>\n",
       "      <th>49902</th>\n",
       "      <td>0.223255</td>\n",
       "      <td>0.168474</td>\n",
       "      <td>0.530914</td>\n",
       "      <td>0.029763</td>\n",
       "      <td>0.070948</td>\n",
       "      <td>0.525431</td>\n",
       "      <td>0.513261</td>\n",
       "      <td>0.173568</td>\n",
       "      <td>611</td>\n",
       "      <td>10</td>\n",
       "      <td>1.0</td>\n",
       "    </tr>\n",
       "    <tr>\n",
       "      <th>49908</th>\n",
       "      <td>0.065542</td>\n",
       "      <td>0.129556</td>\n",
       "      <td>0.354255</td>\n",
       "      <td>0.038569</td>\n",
       "      <td>0.466083</td>\n",
       "      <td>0.464463</td>\n",
       "      <td>0.522219</td>\n",
       "      <td>0.377485</td>\n",
       "      <td>4401</td>\n",
       "      <td>10</td>\n",
       "      <td>1.0</td>\n",
       "    </tr>\n",
       "  </tbody>\n",
       "</table>\n",
       "<p>692 rows × 11 columns</p>\n",
       "</div>"
      ],
      "text/plain": [
       "          c-kit     Sca-1     CD150     CD11b      B220      TCRB       CD4  \\\n",
       "246    0.170840  0.058342  0.324079  0.063562  0.419363  0.435346  0.477362   \n",
       "285    0.431730  0.047524  0.337411  0.096680  0.169587  0.426953  0.434441   \n",
       "302    0.446049  0.176925  0.392701  0.019766  0.059475  0.131753  0.399097   \n",
       "328    0.505898  0.046471  0.094673  0.012622  0.054359  0.441575  0.178113   \n",
       "370    0.505169  0.144324  0.410098  0.103517  0.104140  0.473182  0.492120   \n",
       "...         ...       ...       ...       ...       ...       ...       ...   \n",
       "49776  0.430169  0.125445  0.288438  0.183163  0.121120  0.462627  0.140920   \n",
       "49827  0.534458  0.056336  0.422924  0.102143  0.181072  0.377846  0.531782   \n",
       "49855  0.478745  0.066469  0.120834  0.019083  0.073650  0.136745  0.483308   \n",
       "49902  0.223255  0.168474  0.530914  0.029763  0.070948  0.525431  0.513261   \n",
       "49908  0.065542  0.129556  0.354255  0.038569  0.466083  0.464463  0.522219   \n",
       "\n",
       "            CD8  id_nearest  cluster_id  cluster_outcome  \n",
       "246    0.275370        4336          10              1.0  \n",
       "285    0.159680       11057          10              1.0  \n",
       "302    0.405762          91          10              1.0  \n",
       "328    0.378276          96          10              1.0  \n",
       "370    0.061145         107          10              1.0  \n",
       "...         ...         ...         ...              ...  \n",
       "49776  0.409901       13453          10              1.0  \n",
       "49827  0.446964       13469          10              1.0  \n",
       "49855  0.473290       11201          10              1.0  \n",
       "49902  0.173568         611          10              1.0  \n",
       "49908  0.377485        4401          10              1.0  \n",
       "\n",
       "[692 rows x 11 columns]"
      ]
     },
     "execution_count": 16,
     "metadata": {},
     "output_type": "execute_result"
    }
   ],
   "source": [
    "og_data[og_data['cluster_id']==10]"
   ]
  },
  {
   "cell_type": "code",
   "execution_count": 7,
   "metadata": {},
   "outputs": [
    {
     "name": "stderr",
     "output_type": "stream",
     "text": [
      "Exact explainer: 2001it [00:12, 33.83it/s]                           \n"
     ]
    }
   ],
   "source": [
    "model = xgb.XGBClassifier(objective=\"binary:logistic\")\n",
    "model.fit(X_train, y_train)   \n",
    "\n",
    "explainer = shap.Explainer(model.predict, X_train)\n",
    "shap_values = explainer(X_train)\n",
    "\n",
    "#shap.plots.waterfall(shap_values[0])"
   ]
  },
  {
   "cell_type": "code",
   "execution_count": 26,
   "metadata": {},
   "outputs": [
    {
     "data": {
      "image/png": "[encoded data removed]",
      "text/plain": [
       "<Figure size 800x550 with 3 Axes>"
      ]
     },
     "metadata": {},
     "output_type": "display_data"
    }
   ],
   "source": [
    "shap.plots.waterfall(shap_values[0])"
   ]
  },
  {
   "cell_type": "code",
   "execution_count": 25,
   "metadata": {},
   "outputs": [
    {
     "data": {
      "text/plain": [
       ".values =\n",
       "array([[ 3.46944695e-17,  1.00000000e-03, -1.56125113e-17, ...,\n",
       "         1.00000000e-03,  8.67361738e-18,  1.00000000e-03],\n",
       "       [-7.14285714e-05,  9.28571429e-04,  9.52380952e-05, ...,\n",
       "         9.28571429e-04,  8.33333333e-04,  1.09523810e-03],\n",
       "       [ 3.57142857e-05,  8.69047619e-04,  3.57142857e-05, ...,\n",
       "         8.69047619e-04,  7.73809524e-04,  1.10714286e-03],\n",
       "       ...,\n",
       "       [ 3.05952381e-03, -2.29642857e-02, -2.82142857e-03, ...,\n",
       "        -2.85833333e-02, -5.99880952e-02, -7.05952381e-03],\n",
       "       [-3.57142857e-05, -3.57142857e-05, -3.69047619e-04, ...,\n",
       "        -2.79761905e-03, -2.79761905e-03, -3.69047619e-04],\n",
       "       [ 2.08166817e-17, -1.66666667e-04, -6.66666667e-04, ...,\n",
       "        -3.66666667e-03, -6.66666667e-04,  0.00000000e+00]])\n",
       "\n",
       ".base_values =\n",
       "array([0.46, 0.46, 0.46, ..., 0.46, 0.46, 0.46])\n",
       "\n",
       ".data =\n",
       "array([[0.07046971, 0.59114541, 0.34892743, ..., 0.5267247 , 0.51104863,\n",
       "        0.56185236],\n",
       "       [0.04361372, 0.55371472, 0.53397481, ..., 0.53484668, 0.6119627 ,\n",
       "        0.54385113],\n",
       "       [0.04359016, 0.48517854, 0.41310183, ..., 0.52199176, 0.65189198,\n",
       "        0.51136805],\n",
       "       ...,\n",
       "       [0.47511242, 0.0606158 , 0.23958853, ..., 0.39549289, 0.1018755 ,\n",
       "        0.31620941],\n",
       "       [0.178085  , 0.06735394, 0.21452479, ..., 0.41040704, 0.17433868,\n",
       "        0.23623435],\n",
       "       [0.15697903, 0.10189486, 0.10270381, ..., 0.46583434, 0.47752578,\n",
       "        0.44817256]])"
      ]
     },
     "execution_count": 25,
     "metadata": {},
     "output_type": "execute_result"
    }
   ],
   "source": [
    "shap_values\n"
   ]
  },
  {
   "cell_type": "code",
   "execution_count": 7,
   "metadata": {},
   "outputs": [],
   "source": [
    "gpt_prompt = np.empty((shap_values[0].values.shape[0],1))"
   ]
  },
  {
   "cell_type": "code",
   "execution_count": 10,
   "metadata": {},
   "outputs": [
    {
     "name": "stdout",
     "output_type": "stream",
     "text": [
      "[['na' 'c-kit']\n",
      " ['na' 'Sca-1']\n",
      " ['na' 'CD150']\n",
      " ['high' 'CD11b']\n",
      " ['na' 'B220']\n",
      " ['na' 'TCRB']\n",
      " ['na' 'CD4']\n",
      " ['na' 'CD8']]\n",
      "high CD11b\n"
     ]
    }
   ],
   "source": [
    "gpt_prompt = np.empty((shap_values[0].values.shape[0],1)).astype(str)\n",
    "for i in range(shap_values[0].values.shape[0]):\n",
    "    val = shap_values[0].values[i]\n",
    "    if abs(val) >0.0099:\n",
    "        if val < 0:\n",
    "            gpt_prompt[i] = 'low'\n",
    "        else:\n",
    "            gpt_prompt[i] = 'high'\n",
    "    else:\n",
    "        gpt_prompt[i] = 'na'\n",
    "\n",
    "gpt_cp = np.column_stack((gpt_prompt,markers_list))\n",
    "print(gpt_cp)\n",
    "gpt_final_prompt = gpt_cp[np.where(gpt_cp[:,0]!='na')]\n",
    "cluster_gpt = ','.join([' '.join(row) for row in gpt_final_prompt])\n",
    "print(cluster_gpt)"
   ]
  },
  {
   "cell_type": "code",
   "execution_count": 5,
   "metadata": {},
   "outputs": [],
   "source": [
    "def get_shap_val(data, markers_list, cluster_num, in_cluster_sample = 1000, out_cluster_sample = 1000, model = 'xgb'):\n",
    "    outcome = np.zeros((data.shape[0],1))\n",
    "    outcome[np.where(data['cluster_id']==cluster_num)] = 1\n",
    "    data['cluster_outcome']  = outcome\n",
    "    in_cluster = np.array(random.choices(np.where(data['cluster_id']==1)[0],k=in_cluster_sample))\n",
    "    out_cluster = np.array(random.choices(np.where(data['cluster_id']==0)[0],k=out_cluster_sample))\n",
    "    ind = np.array([*in_cluster,*out_cluster])\n",
    "    #ind[np.where(ind >= 50000)]\n",
    "    gpt_data = data.iloc[ind]\n",
    "    X_train = gpt_data[markers_list].to_numpy()\n",
    "    y_train = gpt_data['cluster_outcome']\n",
    "    if model == 'xgb':\n",
    "        model = xgb.XGBClassifier(objective=\"binary:logistic\")\n",
    "        model.fit(X_train, y_train)   \n",
    "    elif model=='lgbm':\n",
    "        model = lgb.LGBMClassifier()\n",
    "        model.fit(X_train, y_train)\n",
    "    explainer = shap.Explainer(model.predict, X_train)\n",
    "    shap_values = explainer(X_train)\n",
    "    print(shap_values.values)\n",
    "    gpt_prompt = np.empty((shap_values[0].values.shape[0],1)).astype(str)\n",
    "\n",
    "    for i in range(shap_values[0].values.shape[0]):\n",
    "        val = shap_values[0].values[i]\n",
    "        if abs(val) >0.0099:\n",
    "            if val < 0:\n",
    "                gpt_prompt[i] = 'low'\n",
    "            else:\n",
    "                gpt_prompt[i] = 'high'\n",
    "        else:\n",
    "            gpt_prompt[i] = 'na'\n",
    "\n",
    "    gpt_cp = np.column_stack((gpt_prompt,markers_list))\n",
    "    print(gpt_cp)\n",
    "    gpt_final_prompt = gpt_cp[np.where(gpt_cp[:,0]!='na')]\n",
    "    cluster_gpt = ','.join([' '.join(row) for row in gpt_final_prompt])\n",
    "    return cluster_gpt\n"
   ]
  },
  {
   "cell_type": "code",
   "execution_count": 8,
   "metadata": {},
   "outputs": [
    {
     "name": "stderr",
     "output_type": "stream",
     "text": [
      "Exact explainer: 2001it [00:13, 42.59it/s]                           \n"
     ]
    },
    {
     "name": "stdout",
     "output_type": "stream",
     "text": [
      "[[-4.16333634e-17 -1.56125113e-17 -1.56125113e-17 ...  1.73472348e-18\n",
      "   0.00000000e+00  0.00000000e+00]\n",
      " [-4.16333634e-17 -1.56125113e-17 -1.56125113e-17 ...  1.73472348e-18\n",
      "   0.00000000e+00  0.00000000e+00]\n",
      " [-4.16333634e-17 -1.56125113e-17 -1.56125113e-17 ...  1.73472348e-18\n",
      "   0.00000000e+00  0.00000000e+00]\n",
      " ...\n",
      " [-1.38777878e-17 -2.94902991e-17  2.60208521e-17 ...  1.73472348e-18\n",
      "   8.67361738e-18  0.00000000e+00]\n",
      " [-1.38777878e-17 -2.94902991e-17  2.60208521e-17 ...  1.73472348e-18\n",
      "   8.67361738e-18  0.00000000e+00]\n",
      " [-1.38777878e-17 -2.94902991e-17  2.60208521e-17 ...  1.73472348e-18\n",
      "   8.67361738e-18  0.00000000e+00]]\n",
      "[['na' 'c-kit']\n",
      " ['na' 'Sca-1']\n",
      " ['na' 'CD150']\n",
      " ['low' 'CD11b']\n",
      " ['na' 'B220']\n",
      " ['na' 'TCRB']\n",
      " ['na' 'CD4']\n",
      " ['na' 'CD8']]\n",
      "low CD11b\n"
     ]
    },
    {
     "name": "stderr",
     "output_type": "stream",
     "text": [
      "Exact explainer: 2001it [00:11, 17.81it/s]                           \n"
     ]
    },
    {
     "name": "stdout",
     "output_type": "stream",
     "text": [
      "[[-4.85722573e-17  5.00000000e-04 -1.21430643e-17 ...  5.00000000e-04\n",
      "   5.00000000e-04  0.00000000e+00]\n",
      " [-6.93889390e-18  3.33333333e-04 -1.73472348e-18 ...  2.00000000e-03\n",
      "   1.16666667e-03  0.00000000e+00]\n",
      " [ 6.24500451e-17  6.66666667e-04  6.66666667e-04 ...  1.50000000e-03\n",
      "   8.67361738e-18  0.00000000e+00]\n",
      " ...\n",
      " [ 6.93889390e-18  1.56125113e-17  8.67361738e-18 ...  8.67361738e-18\n",
      "   8.67361738e-18  0.00000000e+00]\n",
      " [ 6.93889390e-18  1.56125113e-17  8.67361738e-18 ...  8.67361738e-18\n",
      "   8.67361738e-18  0.00000000e+00]\n",
      " [ 6.93889390e-18  1.56125113e-17  8.67361738e-18 ...  8.67361738e-18\n",
      "   8.67361738e-18  0.00000000e+00]]\n",
      "[['na' 'c-kit']\n",
      " ['na' 'Sca-1']\n",
      " ['na' 'CD150']\n",
      " ['high' 'CD11b']\n",
      " ['na' 'B220']\n",
      " ['na' 'TCRB']\n",
      " ['na' 'CD4']\n",
      " ['na' 'CD8']]\n",
      "high CD11b\n"
     ]
    },
    {
     "name": "stderr",
     "output_type": "stream",
     "text": [
      "Exact explainer: 2001it [00:10,  7.41it/s]                           \n"
     ]
    },
    {
     "name": "stdout",
     "output_type": "stream",
     "text": [
      "[[0. 0. 0. ... 0. 0. 0.]\n",
      " [0. 0. 0. ... 0. 0. 0.]\n",
      " [0. 0. 0. ... 0. 0. 0.]\n",
      " ...\n",
      " [0. 0. 0. ... 0. 0. 0.]\n",
      " [0. 0. 0. ... 0. 0. 0.]\n",
      " [0. 0. 0. ... 0. 0. 0.]]\n",
      "[['na' 'c-kit']\n",
      " ['na' 'Sca-1']\n",
      " ['na' 'CD150']\n",
      " ['na' 'CD11b']\n",
      " ['na' 'B220']\n",
      " ['na' 'TCRB']\n",
      " ['na' 'CD4']\n",
      " ['na' 'CD8']]\n",
      "\n",
      "[[0. 0. 0. ... 0. 0. 0.]\n",
      " [0. 0. 0. ... 0. 0. 0.]\n",
      " [0. 0. 0. ... 0. 0. 0.]\n",
      " ...\n",
      " [0. 0. 0. ... 0. 0. 0.]\n",
      " [0. 0. 0. ... 0. 0. 0.]\n",
      " [0. 0. 0. ... 0. 0. 0.]]\n",
      "[['na' 'c-kit']\n",
      " ['na' 'Sca-1']\n",
      " ['na' 'CD150']\n",
      " ['na' 'CD11b']\n",
      " ['na' 'B220']\n",
      " ['na' 'TCRB']\n",
      " ['na' 'CD4']\n",
      " ['na' 'CD8']]\n",
      "\n"
     ]
    },
    {
     "name": "stderr",
     "output_type": "stream",
     "text": [
      "Exact explainer: 2001it [00:10,  6.37it/s]                           \n"
     ]
    },
    {
     "name": "stdout",
     "output_type": "stream",
     "text": [
      "[[0. 0. 0. ... 0. 0. 0.]\n",
      " [0. 0. 0. ... 0. 0. 0.]\n",
      " [0. 0. 0. ... 0. 0. 0.]\n",
      " ...\n",
      " [0. 0. 0. ... 0. 0. 0.]\n",
      " [0. 0. 0. ... 0. 0. 0.]\n",
      " [0. 0. 0. ... 0. 0. 0.]]\n",
      "[['na' 'c-kit']\n",
      " ['na' 'Sca-1']\n",
      " ['na' 'CD150']\n",
      " ['na' 'CD11b']\n",
      " ['na' 'B220']\n",
      " ['na' 'TCRB']\n",
      " ['na' 'CD4']\n",
      " ['na' 'CD8']]\n",
      "\n",
      "[[0. 0. 0. ... 0. 0. 0.]\n",
      " [0. 0. 0. ... 0. 0. 0.]\n",
      " [0. 0. 0. ... 0. 0. 0.]\n",
      " ...\n",
      " [0. 0. 0. ... 0. 0. 0.]\n",
      " [0. 0. 0. ... 0. 0. 0.]\n",
      " [0. 0. 0. ... 0. 0. 0.]]\n",
      "[['na' 'c-kit']\n",
      " ['na' 'Sca-1']\n",
      " ['na' 'CD150']\n",
      " ['na' 'CD11b']\n",
      " ['na' 'B220']\n",
      " ['na' 'TCRB']\n",
      " ['na' 'CD4']\n",
      " ['na' 'CD8']]\n",
      "\n",
      "[[0. 0. 0. ... 0. 0. 0.]\n",
      " [0. 0. 0. ... 0. 0. 0.]\n",
      " [0. 0. 0. ... 0. 0. 0.]\n",
      " ...\n",
      " [0. 0. 0. ... 0. 0. 0.]\n",
      " [0. 0. 0. ... 0. 0. 0.]\n",
      " [0. 0. 0. ... 0. 0. 0.]]\n",
      "[['na' 'c-kit']\n",
      " ['na' 'Sca-1']\n",
      " ['na' 'CD150']\n",
      " ['na' 'CD11b']\n",
      " ['na' 'B220']\n",
      " ['na' 'TCRB']\n",
      " ['na' 'CD4']\n",
      " ['na' 'CD8']]\n",
      "\n",
      "[[0. 0. 0. ... 0. 0. 0.]\n",
      " [0. 0. 0. ... 0. 0. 0.]\n",
      " [0. 0. 0. ... 0. 0. 0.]\n",
      " ...\n",
      " [0. 0. 0. ... 0. 0. 0.]\n",
      " [0. 0. 0. ... 0. 0. 0.]\n",
      " [0. 0. 0. ... 0. 0. 0.]]\n",
      "[['na' 'c-kit']\n",
      " ['na' 'Sca-1']\n",
      " ['na' 'CD150']\n",
      " ['na' 'CD11b']\n",
      " ['na' 'B220']\n",
      " ['na' 'TCRB']\n",
      " ['na' 'CD4']\n",
      " ['na' 'CD8']]\n",
      "\n"
     ]
    },
    {
     "name": "stderr",
     "output_type": "stream",
     "text": [
      "Exact explainer: 2001it [00:10,  1.98it/s]                           \n"
     ]
    },
    {
     "name": "stdout",
     "output_type": "stream",
     "text": [
      "[[0. 0. 0. ... 0. 0. 0.]\n",
      " [0. 0. 0. ... 0. 0. 0.]\n",
      " [0. 0. 0. ... 0. 0. 0.]\n",
      " ...\n",
      " [0. 0. 0. ... 0. 0. 0.]\n",
      " [0. 0. 0. ... 0. 0. 0.]\n",
      " [0. 0. 0. ... 0. 0. 0.]]\n",
      "[['na' 'c-kit']\n",
      " ['na' 'Sca-1']\n",
      " ['na' 'CD150']\n",
      " ['na' 'CD11b']\n",
      " ['na' 'B220']\n",
      " ['na' 'TCRB']\n",
      " ['na' 'CD4']\n",
      " ['na' 'CD8']]\n",
      "\n"
     ]
    },
    {
     "name": "stderr",
     "output_type": "stream",
     "text": [
      "Exact explainer: 2001it [00:10,  1.78it/s]                  \n"
     ]
    },
    {
     "name": "stdout",
     "output_type": "stream",
     "text": [
      "[[0. 0. 0. ... 0. 0. 0.]\n",
      " [0. 0. 0. ... 0. 0. 0.]\n",
      " [0. 0. 0. ... 0. 0. 0.]\n",
      " ...\n",
      " [0. 0. 0. ... 0. 0. 0.]\n",
      " [0. 0. 0. ... 0. 0. 0.]\n",
      " [0. 0. 0. ... 0. 0. 0.]]\n",
      "[['na' 'c-kit']\n",
      " ['na' 'Sca-1']\n",
      " ['na' 'CD150']\n",
      " ['na' 'CD11b']\n",
      " ['na' 'B220']\n",
      " ['na' 'TCRB']\n",
      " ['na' 'CD4']\n",
      " ['na' 'CD8']]\n",
      "\n"
     ]
    },
    {
     "name": "stderr",
     "output_type": "stream",
     "text": [
      "Exact explainer: 2001it [00:10,  1.43s/it]                  \n"
     ]
    },
    {
     "name": "stdout",
     "output_type": "stream",
     "text": [
      "[[0. 0. 0. ... 0. 0. 0.]\n",
      " [0. 0. 0. ... 0. 0. 0.]\n",
      " [0. 0. 0. ... 0. 0. 0.]\n",
      " ...\n",
      " [0. 0. 0. ... 0. 0. 0.]\n",
      " [0. 0. 0. ... 0. 0. 0.]\n",
      " [0. 0. 0. ... 0. 0. 0.]]\n",
      "[['na' 'c-kit']\n",
      " ['na' 'Sca-1']\n",
      " ['na' 'CD150']\n",
      " ['na' 'CD11b']\n",
      " ['na' 'B220']\n",
      " ['na' 'TCRB']\n",
      " ['na' 'CD4']\n",
      " ['na' 'CD8']]\n",
      "\n"
     ]
    },
    {
     "name": "stderr",
     "output_type": "stream",
     "text": [
      "Exact explainer: 2001it [00:10,  1.67s/it]                  \n"
     ]
    },
    {
     "name": "stdout",
     "output_type": "stream",
     "text": [
      "[[0. 0. 0. ... 0. 0. 0.]\n",
      " [0. 0. 0. ... 0. 0. 0.]\n",
      " [0. 0. 0. ... 0. 0. 0.]\n",
      " ...\n",
      " [0. 0. 0. ... 0. 0. 0.]\n",
      " [0. 0. 0. ... 0. 0. 0.]\n",
      " [0. 0. 0. ... 0. 0. 0.]]\n",
      "[['na' 'c-kit']\n",
      " ['na' 'Sca-1']\n",
      " ['na' 'CD150']\n",
      " ['na' 'CD11b']\n",
      " ['na' 'B220']\n",
      " ['na' 'TCRB']\n",
      " ['na' 'CD4']\n",
      " ['na' 'CD8']]\n",
      "\n",
      "[[0. 0. 0. ... 0. 0. 0.]\n",
      " [0. 0. 0. ... 0. 0. 0.]\n",
      " [0. 0. 0. ... 0. 0. 0.]\n",
      " ...\n",
      " [0. 0. 0. ... 0. 0. 0.]\n",
      " [0. 0. 0. ... 0. 0. 0.]\n",
      " [0. 0. 0. ... 0. 0. 0.]]\n",
      "[['na' 'c-kit']\n",
      " ['na' 'Sca-1']\n",
      " ['na' 'CD150']\n",
      " ['na' 'CD11b']\n",
      " ['na' 'B220']\n",
      " ['na' 'TCRB']\n",
      " ['na' 'CD4']\n",
      " ['na' 'CD8']]\n",
      "\n",
      "[[0. 0. 0. ... 0. 0. 0.]\n",
      " [0. 0. 0. ... 0. 0. 0.]\n",
      " [0. 0. 0. ... 0. 0. 0.]\n",
      " ...\n",
      " [0. 0. 0. ... 0. 0. 0.]\n",
      " [0. 0. 0. ... 0. 0. 0.]\n",
      " [0. 0. 0. ... 0. 0. 0.]]\n",
      "[['na' 'c-kit']\n",
      " ['na' 'Sca-1']\n",
      " ['na' 'CD150']\n",
      " ['na' 'CD11b']\n",
      " ['na' 'B220']\n",
      " ['na' 'TCRB']\n",
      " ['na' 'CD4']\n",
      " ['na' 'CD8']]\n",
      "\n"
     ]
    },
    {
     "name": "stderr",
     "output_type": "stream",
     "text": [
      "Exact explainer: 2001it [00:10,  2.56it/s]                           \n"
     ]
    },
    {
     "name": "stdout",
     "output_type": "stream",
     "text": [
      "[[0. 0. 0. ... 0. 0. 0.]\n",
      " [0. 0. 0. ... 0. 0. 0.]\n",
      " [0. 0. 0. ... 0. 0. 0.]\n",
      " ...\n",
      " [0. 0. 0. ... 0. 0. 0.]\n",
      " [0. 0. 0. ... 0. 0. 0.]\n",
      " [0. 0. 0. ... 0. 0. 0.]]\n",
      "[['na' 'c-kit']\n",
      " ['na' 'Sca-1']\n",
      " ['na' 'CD150']\n",
      " ['na' 'CD11b']\n",
      " ['na' 'B220']\n",
      " ['na' 'TCRB']\n",
      " ['na' 'CD4']\n",
      " ['na' 'CD8']]\n",
      "\n",
      "[[0. 0. 0. ... 0. 0. 0.]\n",
      " [0. 0. 0. ... 0. 0. 0.]\n",
      " [0. 0. 0. ... 0. 0. 0.]\n",
      " ...\n",
      " [0. 0. 0. ... 0. 0. 0.]\n",
      " [0. 0. 0. ... 0. 0. 0.]\n",
      " [0. 0. 0. ... 0. 0. 0.]]\n",
      "[['na' 'c-kit']\n",
      " ['na' 'Sca-1']\n",
      " ['na' 'CD150']\n",
      " ['na' 'CD11b']\n",
      " ['na' 'B220']\n",
      " ['na' 'TCRB']\n",
      " ['na' 'CD4']\n",
      " ['na' 'CD8']]\n",
      "\n"
     ]
    },
    {
     "name": "stderr",
     "output_type": "stream",
     "text": [
      "Exact explainer: 2001it [00:10,  1.59it/s]                  \n"
     ]
    },
    {
     "name": "stdout",
     "output_type": "stream",
     "text": [
      "[[0. 0. 0. ... 0. 0. 0.]\n",
      " [0. 0. 0. ... 0. 0. 0.]\n",
      " [0. 0. 0. ... 0. 0. 0.]\n",
      " ...\n",
      " [0. 0. 0. ... 0. 0. 0.]\n",
      " [0. 0. 0. ... 0. 0. 0.]\n",
      " [0. 0. 0. ... 0. 0. 0.]]\n",
      "[['na' 'c-kit']\n",
      " ['na' 'Sca-1']\n",
      " ['na' 'CD150']\n",
      " ['na' 'CD11b']\n",
      " ['na' 'B220']\n",
      " ['na' 'TCRB']\n",
      " ['na' 'CD4']\n",
      " ['na' 'CD8']]\n",
      "\n",
      "[[0. 0. 0. ... 0. 0. 0.]\n",
      " [0. 0. 0. ... 0. 0. 0.]\n",
      " [0. 0. 0. ... 0. 0. 0.]\n",
      " ...\n",
      " [0. 0. 0. ... 0. 0. 0.]\n",
      " [0. 0. 0. ... 0. 0. 0.]\n",
      " [0. 0. 0. ... 0. 0. 0.]]\n",
      "[['na' 'c-kit']\n",
      " ['na' 'Sca-1']\n",
      " ['na' 'CD150']\n",
      " ['na' 'CD11b']\n",
      " ['na' 'B220']\n",
      " ['na' 'TCRB']\n",
      " ['na' 'CD4']\n",
      " ['na' 'CD8']]\n",
      "\n",
      "[[0. 0. 0. ... 0. 0. 0.]\n",
      " [0. 0. 0. ... 0. 0. 0.]\n",
      " [0. 0. 0. ... 0. 0. 0.]\n",
      " ...\n",
      " [0. 0. 0. ... 0. 0. 0.]\n",
      " [0. 0. 0. ... 0. 0. 0.]\n",
      " [0. 0. 0. ... 0. 0. 0.]]\n",
      "[['na' 'c-kit']\n",
      " ['na' 'Sca-1']\n",
      " ['na' 'CD150']\n",
      " ['na' 'CD11b']\n",
      " ['na' 'B220']\n",
      " ['na' 'TCRB']\n",
      " ['na' 'CD4']\n",
      " ['na' 'CD8']]\n",
      "\n",
      "[[0. 0. 0. ... 0. 0. 0.]\n",
      " [0. 0. 0. ... 0. 0. 0.]\n",
      " [0. 0. 0. ... 0. 0. 0.]\n",
      " ...\n",
      " [0. 0. 0. ... 0. 0. 0.]\n",
      " [0. 0. 0. ... 0. 0. 0.]\n",
      " [0. 0. 0. ... 0. 0. 0.]]\n",
      "[['na' 'c-kit']\n",
      " ['na' 'Sca-1']\n",
      " ['na' 'CD150']\n",
      " ['na' 'CD11b']\n",
      " ['na' 'B220']\n",
      " ['na' 'TCRB']\n",
      " ['na' 'CD4']\n",
      " ['na' 'CD8']]\n",
      "\n"
     ]
    },
    {
     "name": "stderr",
     "output_type": "stream",
     "text": [
      "Exact explainer: 2001it [00:10,  3.34s/it]                  \n"
     ]
    },
    {
     "name": "stdout",
     "output_type": "stream",
     "text": [
      "[[0. 0. 0. ... 0. 0. 0.]\n",
      " [0. 0. 0. ... 0. 0. 0.]\n",
      " [0. 0. 0. ... 0. 0. 0.]\n",
      " ...\n",
      " [0. 0. 0. ... 0. 0. 0.]\n",
      " [0. 0. 0. ... 0. 0. 0.]\n",
      " [0. 0. 0. ... 0. 0. 0.]]\n",
      "[['na' 'c-kit']\n",
      " ['na' 'Sca-1']\n",
      " ['na' 'CD150']\n",
      " ['na' 'CD11b']\n",
      " ['na' 'B220']\n",
      " ['na' 'TCRB']\n",
      " ['na' 'CD4']\n",
      " ['na' 'CD8']]\n",
      "\n"
     ]
    },
    {
     "name": "stderr",
     "output_type": "stream",
     "text": [
      "Exact explainer: 2001it [00:10,  2.85it/s]                           \n"
     ]
    },
    {
     "name": "stdout",
     "output_type": "stream",
     "text": [
      "[[0. 0. 0. ... 0. 0. 0.]\n",
      " [0. 0. 0. ... 0. 0. 0.]\n",
      " [0. 0. 0. ... 0. 0. 0.]\n",
      " ...\n",
      " [0. 0. 0. ... 0. 0. 0.]\n",
      " [0. 0. 0. ... 0. 0. 0.]\n",
      " [0. 0. 0. ... 0. 0. 0.]]\n",
      "[['na' 'c-kit']\n",
      " ['na' 'Sca-1']\n",
      " ['na' 'CD150']\n",
      " ['na' 'CD11b']\n",
      " ['na' 'B220']\n",
      " ['na' 'TCRB']\n",
      " ['na' 'CD4']\n",
      " ['na' 'CD8']]\n",
      "\n"
     ]
    },
    {
     "name": "stderr",
     "output_type": "stream",
     "text": [
      "Exact explainer: 2001it [00:10,  1.59it/s]                  \n"
     ]
    },
    {
     "name": "stdout",
     "output_type": "stream",
     "text": [
      "[[0. 0. 0. ... 0. 0. 0.]\n",
      " [0. 0. 0. ... 0. 0. 0.]\n",
      " [0. 0. 0. ... 0. 0. 0.]\n",
      " ...\n",
      " [0. 0. 0. ... 0. 0. 0.]\n",
      " [0. 0. 0. ... 0. 0. 0.]\n",
      " [0. 0. 0. ... 0. 0. 0.]]\n",
      "[['na' 'c-kit']\n",
      " ['na' 'Sca-1']\n",
      " ['na' 'CD150']\n",
      " ['na' 'CD11b']\n",
      " ['na' 'B220']\n",
      " ['na' 'TCRB']\n",
      " ['na' 'CD4']\n",
      " ['na' 'CD8']]\n",
      "\n"
     ]
    },
    {
     "name": "stderr",
     "output_type": "stream",
     "text": [
      "Exact explainer: 2001it [00:10,  4.59it/s]                           \n"
     ]
    },
    {
     "name": "stdout",
     "output_type": "stream",
     "text": [
      "[[0. 0. 0. ... 0. 0. 0.]\n",
      " [0. 0. 0. ... 0. 0. 0.]\n",
      " [0. 0. 0. ... 0. 0. 0.]\n",
      " ...\n",
      " [0. 0. 0. ... 0. 0. 0.]\n",
      " [0. 0. 0. ... 0. 0. 0.]\n",
      " [0. 0. 0. ... 0. 0. 0.]]\n",
      "[['na' 'c-kit']\n",
      " ['na' 'Sca-1']\n",
      " ['na' 'CD150']\n",
      " ['na' 'CD11b']\n",
      " ['na' 'B220']\n",
      " ['na' 'TCRB']\n",
      " ['na' 'CD4']\n",
      " ['na' 'CD8']]\n",
      "\n"
     ]
    },
    {
     "name": "stderr",
     "output_type": "stream",
     "text": [
      "Exact explainer: 2001it [00:10,  4.87it/s]                           \n"
     ]
    },
    {
     "name": "stdout",
     "output_type": "stream",
     "text": [
      "[[0. 0. 0. ... 0. 0. 0.]\n",
      " [0. 0. 0. ... 0. 0. 0.]\n",
      " [0. 0. 0. ... 0. 0. 0.]\n",
      " ...\n",
      " [0. 0. 0. ... 0. 0. 0.]\n",
      " [0. 0. 0. ... 0. 0. 0.]\n",
      " [0. 0. 0. ... 0. 0. 0.]]\n",
      "[['na' 'c-kit']\n",
      " ['na' 'Sca-1']\n",
      " ['na' 'CD150']\n",
      " ['na' 'CD11b']\n",
      " ['na' 'B220']\n",
      " ['na' 'TCRB']\n",
      " ['na' 'CD4']\n",
      " ['na' 'CD8']]\n",
      "\n"
     ]
    },
    {
     "name": "stderr",
     "output_type": "stream",
     "text": [
      "Exact explainer: 2001it [00:10,  3.73it/s]                           \n"
     ]
    },
    {
     "name": "stdout",
     "output_type": "stream",
     "text": [
      "[[0. 0. 0. ... 0. 0. 0.]\n",
      " [0. 0. 0. ... 0. 0. 0.]\n",
      " [0. 0. 0. ... 0. 0. 0.]\n",
      " ...\n",
      " [0. 0. 0. ... 0. 0. 0.]\n",
      " [0. 0. 0. ... 0. 0. 0.]\n",
      " [0. 0. 0. ... 0. 0. 0.]]\n",
      "[['na' 'c-kit']\n",
      " ['na' 'Sca-1']\n",
      " ['na' 'CD150']\n",
      " ['na' 'CD11b']\n",
      " ['na' 'B220']\n",
      " ['na' 'TCRB']\n",
      " ['na' 'CD4']\n",
      " ['na' 'CD8']]\n",
      "\n",
      "[[0. 0. 0. ... 0. 0. 0.]\n",
      " [0. 0. 0. ... 0. 0. 0.]\n",
      " [0. 0. 0. ... 0. 0. 0.]\n",
      " ...\n",
      " [0. 0. 0. ... 0. 0. 0.]\n",
      " [0. 0. 0. ... 0. 0. 0.]\n",
      " [0. 0. 0. ... 0. 0. 0.]]\n",
      "[['na' 'c-kit']\n",
      " ['na' 'Sca-1']\n",
      " ['na' 'CD150']\n",
      " ['na' 'CD11b']\n",
      " ['na' 'B220']\n",
      " ['na' 'TCRB']\n",
      " ['na' 'CD4']\n",
      " ['na' 'CD8']]\n",
      "\n"
     ]
    },
    {
     "name": "stderr",
     "output_type": "stream",
     "text": [
      "Exact explainer: 2001it [00:10,  1.29it/s]                  \n"
     ]
    },
    {
     "name": "stdout",
     "output_type": "stream",
     "text": [
      "[[0. 0. 0. ... 0. 0. 0.]\n",
      " [0. 0. 0. ... 0. 0. 0.]\n",
      " [0. 0. 0. ... 0. 0. 0.]\n",
      " ...\n",
      " [0. 0. 0. ... 0. 0. 0.]\n",
      " [0. 0. 0. ... 0. 0. 0.]\n",
      " [0. 0. 0. ... 0. 0. 0.]]\n",
      "[['na' 'c-kit']\n",
      " ['na' 'Sca-1']\n",
      " ['na' 'CD150']\n",
      " ['na' 'CD11b']\n",
      " ['na' 'B220']\n",
      " ['na' 'TCRB']\n",
      " ['na' 'CD4']\n",
      " ['na' 'CD8']]\n",
      "\n"
     ]
    },
    {
     "name": "stderr",
     "output_type": "stream",
     "text": [
      "Exact explainer: 2001it [00:10,  3.53it/s]                           \n"
     ]
    },
    {
     "name": "stdout",
     "output_type": "stream",
     "text": [
      "[[0. 0. 0. ... 0. 0. 0.]\n",
      " [0. 0. 0. ... 0. 0. 0.]\n",
      " [0. 0. 0. ... 0. 0. 0.]\n",
      " ...\n",
      " [0. 0. 0. ... 0. 0. 0.]\n",
      " [0. 0. 0. ... 0. 0. 0.]\n",
      " [0. 0. 0. ... 0. 0. 0.]]\n",
      "[['na' 'c-kit']\n",
      " ['na' 'Sca-1']\n",
      " ['na' 'CD150']\n",
      " ['na' 'CD11b']\n",
      " ['na' 'B220']\n",
      " ['na' 'TCRB']\n",
      " ['na' 'CD4']\n",
      " ['na' 'CD8']]\n",
      "\n"
     ]
    },
    {
     "name": "stderr",
     "output_type": "stream",
     "text": [
      "Exact explainer: 2001it [00:10,  2.50s/it]                  \n"
     ]
    },
    {
     "name": "stdout",
     "output_type": "stream",
     "text": [
      "[[0. 0. 0. ... 0. 0. 0.]\n",
      " [0. 0. 0. ... 0. 0. 0.]\n",
      " [0. 0. 0. ... 0. 0. 0.]\n",
      " ...\n",
      " [0. 0. 0. ... 0. 0. 0.]\n",
      " [0. 0. 0. ... 0. 0. 0.]\n",
      " [0. 0. 0. ... 0. 0. 0.]]\n",
      "[['na' 'c-kit']\n",
      " ['na' 'Sca-1']\n",
      " ['na' 'CD150']\n",
      " ['na' 'CD11b']\n",
      " ['na' 'B220']\n",
      " ['na' 'TCRB']\n",
      " ['na' 'CD4']\n",
      " ['na' 'CD8']]\n",
      "\n"
     ]
    },
    {
     "name": "stderr",
     "output_type": "stream",
     "text": [
      "Exact explainer: 2001it [00:10,  3.44it/s]                           \n"
     ]
    },
    {
     "name": "stdout",
     "output_type": "stream",
     "text": [
      "[[0. 0. 0. ... 0. 0. 0.]\n",
      " [0. 0. 0. ... 0. 0. 0.]\n",
      " [0. 0. 0. ... 0. 0. 0.]\n",
      " ...\n",
      " [0. 0. 0. ... 0. 0. 0.]\n",
      " [0. 0. 0. ... 0. 0. 0.]\n",
      " [0. 0. 0. ... 0. 0. 0.]]\n",
      "[['na' 'c-kit']\n",
      " ['na' 'Sca-1']\n",
      " ['na' 'CD150']\n",
      " ['na' 'CD11b']\n",
      " ['na' 'B220']\n",
      " ['na' 'TCRB']\n",
      " ['na' 'CD4']\n",
      " ['na' 'CD8']]\n",
      "\n"
     ]
    },
    {
     "name": "stderr",
     "output_type": "stream",
     "text": [
      "Exact explainer: 2001it [00:10,  5.91it/s]                           \n"
     ]
    },
    {
     "name": "stdout",
     "output_type": "stream",
     "text": [
      "[[0. 0. 0. ... 0. 0. 0.]\n",
      " [0. 0. 0. ... 0. 0. 0.]\n",
      " [0. 0. 0. ... 0. 0. 0.]\n",
      " ...\n",
      " [0. 0. 0. ... 0. 0. 0.]\n",
      " [0. 0. 0. ... 0. 0. 0.]\n",
      " [0. 0. 0. ... 0. 0. 0.]]\n",
      "[['na' 'c-kit']\n",
      " ['na' 'Sca-1']\n",
      " ['na' 'CD150']\n",
      " ['na' 'CD11b']\n",
      " ['na' 'B220']\n",
      " ['na' 'TCRB']\n",
      " ['na' 'CD4']\n",
      " ['na' 'CD8']]\n",
      "\n"
     ]
    },
    {
     "name": "stderr",
     "output_type": "stream",
     "text": [
      "Exact explainer: 2001it [00:10, 11.86it/s]                           \n"
     ]
    },
    {
     "name": "stdout",
     "output_type": "stream",
     "text": [
      "[[0. 0. 0. ... 0. 0. 0.]\n",
      " [0. 0. 0. ... 0. 0. 0.]\n",
      " [0. 0. 0. ... 0. 0. 0.]\n",
      " ...\n",
      " [0. 0. 0. ... 0. 0. 0.]\n",
      " [0. 0. 0. ... 0. 0. 0.]\n",
      " [0. 0. 0. ... 0. 0. 0.]]\n",
      "[['na' 'c-kit']\n",
      " ['na' 'Sca-1']\n",
      " ['na' 'CD150']\n",
      " ['na' 'CD11b']\n",
      " ['na' 'B220']\n",
      " ['na' 'TCRB']\n",
      " ['na' 'CD4']\n",
      " ['na' 'CD8']]\n",
      "\n"
     ]
    },
    {
     "name": "stderr",
     "output_type": "stream",
     "text": [
      "Exact explainer: 2001it [00:10,  1.68it/s]                           \n"
     ]
    },
    {
     "name": "stdout",
     "output_type": "stream",
     "text": [
      "[[0. 0. 0. ... 0. 0. 0.]\n",
      " [0. 0. 0. ... 0. 0. 0.]\n",
      " [0. 0. 0. ... 0. 0. 0.]\n",
      " ...\n",
      " [0. 0. 0. ... 0. 0. 0.]\n",
      " [0. 0. 0. ... 0. 0. 0.]\n",
      " [0. 0. 0. ... 0. 0. 0.]]\n",
      "[['na' 'c-kit']\n",
      " ['na' 'Sca-1']\n",
      " ['na' 'CD150']\n",
      " ['na' 'CD11b']\n",
      " ['na' 'B220']\n",
      " ['na' 'TCRB']\n",
      " ['na' 'CD4']\n",
      " ['na' 'CD8']]\n",
      "\n"
     ]
    },
    {
     "name": "stderr",
     "output_type": "stream",
     "text": [
      "Exact explainer: 2001it [00:10,  7.50it/s]                           \n"
     ]
    },
    {
     "name": "stdout",
     "output_type": "stream",
     "text": [
      "[[0. 0. 0. ... 0. 0. 0.]\n",
      " [0. 0. 0. ... 0. 0. 0.]\n",
      " [0. 0. 0. ... 0. 0. 0.]\n",
      " ...\n",
      " [0. 0. 0. ... 0. 0. 0.]\n",
      " [0. 0. 0. ... 0. 0. 0.]\n",
      " [0. 0. 0. ... 0. 0. 0.]]\n",
      "[['na' 'c-kit']\n",
      " ['na' 'Sca-1']\n",
      " ['na' 'CD150']\n",
      " ['na' 'CD11b']\n",
      " ['na' 'B220']\n",
      " ['na' 'TCRB']\n",
      " ['na' 'CD4']\n",
      " ['na' 'CD8']]\n",
      "\n"
     ]
    },
    {
     "name": "stderr",
     "output_type": "stream",
     "text": [
      "Exact explainer: 2001it [00:12, 32.95it/s]                           \n"
     ]
    },
    {
     "name": "stdout",
     "output_type": "stream",
     "text": [
      "[[0. 0. 0. ... 0. 0. 0.]\n",
      " [0. 0. 0. ... 0. 0. 0.]\n",
      " [0. 0. 0. ... 0. 0. 0.]\n",
      " ...\n",
      " [0. 0. 0. ... 0. 0. 0.]\n",
      " [0. 0. 0. ... 0. 0. 0.]\n",
      " [0. 0. 0. ... 0. 0. 0.]]\n",
      "[['na' 'c-kit']\n",
      " ['na' 'Sca-1']\n",
      " ['na' 'CD150']\n",
      " ['na' 'CD11b']\n",
      " ['na' 'B220']\n",
      " ['na' 'TCRB']\n",
      " ['na' 'CD4']\n",
      " ['na' 'CD8']]\n",
      "\n"
     ]
    },
    {
     "name": "stderr",
     "output_type": "stream",
     "text": [
      "Exact explainer: 2001it [00:10,  1.69it/s]                  \n"
     ]
    },
    {
     "name": "stdout",
     "output_type": "stream",
     "text": [
      "[[0. 0. 0. ... 0. 0. 0.]\n",
      " [0. 0. 0. ... 0. 0. 0.]\n",
      " [0. 0. 0. ... 0. 0. 0.]\n",
      " ...\n",
      " [0. 0. 0. ... 0. 0. 0.]\n",
      " [0. 0. 0. ... 0. 0. 0.]\n",
      " [0. 0. 0. ... 0. 0. 0.]]\n",
      "[['na' 'c-kit']\n",
      " ['na' 'Sca-1']\n",
      " ['na' 'CD150']\n",
      " ['na' 'CD11b']\n",
      " ['na' 'B220']\n",
      " ['na' 'TCRB']\n",
      " ['na' 'CD4']\n",
      " ['na' 'CD8']]\n",
      "\n"
     ]
    },
    {
     "name": "stderr",
     "output_type": "stream",
     "text": [
      "Exact explainer: 2001it [00:10,  1.29it/s]                  \n"
     ]
    },
    {
     "name": "stdout",
     "output_type": "stream",
     "text": [
      "[[0. 0. 0. ... 0. 0. 0.]\n",
      " [0. 0. 0. ... 0. 0. 0.]\n",
      " [0. 0. 0. ... 0. 0. 0.]\n",
      " ...\n",
      " [0. 0. 0. ... 0. 0. 0.]\n",
      " [0. 0. 0. ... 0. 0. 0.]\n",
      " [0. 0. 0. ... 0. 0. 0.]]\n",
      "[['na' 'c-kit']\n",
      " ['na' 'Sca-1']\n",
      " ['na' 'CD150']\n",
      " ['na' 'CD11b']\n",
      " ['na' 'B220']\n",
      " ['na' 'TCRB']\n",
      " ['na' 'CD4']\n",
      " ['na' 'CD8']]\n",
      "\n"
     ]
    },
    {
     "name": "stderr",
     "output_type": "stream",
     "text": [
      "Exact explainer: 2001it [00:10,  4.88it/s]                           \n"
     ]
    },
    {
     "name": "stdout",
     "output_type": "stream",
     "text": [
      "[[0. 0. 0. ... 0. 0. 0.]\n",
      " [0. 0. 0. ... 0. 0. 0.]\n",
      " [0. 0. 0. ... 0. 0. 0.]\n",
      " ...\n",
      " [0. 0. 0. ... 0. 0. 0.]\n",
      " [0. 0. 0. ... 0. 0. 0.]\n",
      " [0. 0. 0. ... 0. 0. 0.]]\n",
      "[['na' 'c-kit']\n",
      " ['na' 'Sca-1']\n",
      " ['na' 'CD150']\n",
      " ['na' 'CD11b']\n",
      " ['na' 'B220']\n",
      " ['na' 'TCRB']\n",
      " ['na' 'CD4']\n",
      " ['na' 'CD8']]\n",
      "\n"
     ]
    },
    {
     "name": "stderr",
     "output_type": "stream",
     "text": [
      "Exact explainer: 2001it [00:10, 15.47it/s]                           \n"
     ]
    },
    {
     "name": "stdout",
     "output_type": "stream",
     "text": [
      "[[0. 0. 0. ... 0. 0. 0.]\n",
      " [0. 0. 0. ... 0. 0. 0.]\n",
      " [0. 0. 0. ... 0. 0. 0.]\n",
      " ...\n",
      " [0. 0. 0. ... 0. 0. 0.]\n",
      " [0. 0. 0. ... 0. 0. 0.]\n",
      " [0. 0. 0. ... 0. 0. 0.]]\n",
      "[['na' 'c-kit']\n",
      " ['na' 'Sca-1']\n",
      " ['na' 'CD150']\n",
      " ['na' 'CD11b']\n",
      " ['na' 'B220']\n",
      " ['na' 'TCRB']\n",
      " ['na' 'CD4']\n",
      " ['na' 'CD8']]\n",
      "\n"
     ]
    },
    {
     "name": "stderr",
     "output_type": "stream",
     "text": [
      "Exact explainer: 2001it [00:10,  1.43s/it]                  \n"
     ]
    },
    {
     "name": "stdout",
     "output_type": "stream",
     "text": [
      "[[0. 0. 0. ... 0. 0. 0.]\n",
      " [0. 0. 0. ... 0. 0. 0.]\n",
      " [0. 0. 0. ... 0. 0. 0.]\n",
      " ...\n",
      " [0. 0. 0. ... 0. 0. 0.]\n",
      " [0. 0. 0. ... 0. 0. 0.]\n",
      " [0. 0. 0. ... 0. 0. 0.]]\n",
      "[['na' 'c-kit']\n",
      " ['na' 'Sca-1']\n",
      " ['na' 'CD150']\n",
      " ['na' 'CD11b']\n",
      " ['na' 'B220']\n",
      " ['na' 'TCRB']\n",
      " ['na' 'CD4']\n",
      " ['na' 'CD8']]\n",
      "\n"
     ]
    },
    {
     "name": "stderr",
     "output_type": "stream",
     "text": [
      "Exact explainer: 2001it [00:12, 29.35it/s]                           \n"
     ]
    },
    {
     "name": "stdout",
     "output_type": "stream",
     "text": [
      "[[0. 0. 0. ... 0. 0. 0.]\n",
      " [0. 0. 0. ... 0. 0. 0.]\n",
      " [0. 0. 0. ... 0. 0. 0.]\n",
      " ...\n",
      " [0. 0. 0. ... 0. 0. 0.]\n",
      " [0. 0. 0. ... 0. 0. 0.]\n",
      " [0. 0. 0. ... 0. 0. 0.]]\n",
      "[['na' 'c-kit']\n",
      " ['na' 'Sca-1']\n",
      " ['na' 'CD150']\n",
      " ['na' 'CD11b']\n",
      " ['na' 'B220']\n",
      " ['na' 'TCRB']\n",
      " ['na' 'CD4']\n",
      " ['na' 'CD8']]\n",
      "\n"
     ]
    },
    {
     "name": "stderr",
     "output_type": "stream",
     "text": [
      "Exact explainer: 2001it [00:10,  6.11it/s]                           \n"
     ]
    },
    {
     "name": "stdout",
     "output_type": "stream",
     "text": [
      "[[0. 0. 0. ... 0. 0. 0.]\n",
      " [0. 0. 0. ... 0. 0. 0.]\n",
      " [0. 0. 0. ... 0. 0. 0.]\n",
      " ...\n",
      " [0. 0. 0. ... 0. 0. 0.]\n",
      " [0. 0. 0. ... 0. 0. 0.]\n",
      " [0. 0. 0. ... 0. 0. 0.]]\n",
      "[['na' 'c-kit']\n",
      " ['na' 'Sca-1']\n",
      " ['na' 'CD150']\n",
      " ['na' 'CD11b']\n",
      " ['na' 'B220']\n",
      " ['na' 'TCRB']\n",
      " ['na' 'CD4']\n",
      " ['na' 'CD8']]\n",
      "\n"
     ]
    },
    {
     "name": "stderr",
     "output_type": "stream",
     "text": [
      "Exact explainer: 2001it [00:10,  1.43s/it]                  \n"
     ]
    },
    {
     "name": "stdout",
     "output_type": "stream",
     "text": [
      "[[0. 0. 0. ... 0. 0. 0.]\n",
      " [0. 0. 0. ... 0. 0. 0.]\n",
      " [0. 0. 0. ... 0. 0. 0.]\n",
      " ...\n",
      " [0. 0. 0. ... 0. 0. 0.]\n",
      " [0. 0. 0. ... 0. 0. 0.]\n",
      " [0. 0. 0. ... 0. 0. 0.]]\n",
      "[['na' 'c-kit']\n",
      " ['na' 'Sca-1']\n",
      " ['na' 'CD150']\n",
      " ['na' 'CD11b']\n",
      " ['na' 'B220']\n",
      " ['na' 'TCRB']\n",
      " ['na' 'CD4']\n",
      " ['na' 'CD8']]\n",
      "\n",
      "[[0. 0. 0. ... 0. 0. 0.]\n",
      " [0. 0. 0. ... 0. 0. 0.]\n",
      " [0. 0. 0. ... 0. 0. 0.]\n",
      " ...\n",
      " [0. 0. 0. ... 0. 0. 0.]\n",
      " [0. 0. 0. ... 0. 0. 0.]\n",
      " [0. 0. 0. ... 0. 0. 0.]]\n",
      "[['na' 'c-kit']\n",
      " ['na' 'Sca-1']\n",
      " ['na' 'CD150']\n",
      " ['na' 'CD11b']\n",
      " ['na' 'B220']\n",
      " ['na' 'TCRB']\n",
      " ['na' 'CD4']\n",
      " ['na' 'CD8']]\n",
      "\n",
      "[[0. 0. 0. ... 0. 0. 0.]\n",
      " [0. 0. 0. ... 0. 0. 0.]\n",
      " [0. 0. 0. ... 0. 0. 0.]\n",
      " ...\n",
      " [0. 0. 0. ... 0. 0. 0.]\n",
      " [0. 0. 0. ... 0. 0. 0.]\n",
      " [0. 0. 0. ... 0. 0. 0.]]\n",
      "[['na' 'c-kit']\n",
      " ['na' 'Sca-1']\n",
      " ['na' 'CD150']\n",
      " ['na' 'CD11b']\n",
      " ['na' 'B220']\n",
      " ['na' 'TCRB']\n",
      " ['na' 'CD4']\n",
      " ['na' 'CD8']]\n",
      "\n",
      "[[0. 0. 0. ... 0. 0. 0.]\n",
      " [0. 0. 0. ... 0. 0. 0.]\n",
      " [0. 0. 0. ... 0. 0. 0.]\n",
      " ...\n",
      " [0. 0. 0. ... 0. 0. 0.]\n",
      " [0. 0. 0. ... 0. 0. 0.]\n",
      " [0. 0. 0. ... 0. 0. 0.]]\n",
      "[['na' 'c-kit']\n",
      " ['na' 'Sca-1']\n",
      " ['na' 'CD150']\n",
      " ['na' 'CD11b']\n",
      " ['na' 'B220']\n",
      " ['na' 'TCRB']\n",
      " ['na' 'CD4']\n",
      " ['na' 'CD8']]\n",
      "\n"
     ]
    },
    {
     "name": "stderr",
     "output_type": "stream",
     "text": [
      "Exact explainer: 2001it [00:10,  4.96it/s]                           \n"
     ]
    },
    {
     "name": "stdout",
     "output_type": "stream",
     "text": [
      "[[0. 0. 0. ... 0. 0. 0.]\n",
      " [0. 0. 0. ... 0. 0. 0.]\n",
      " [0. 0. 0. ... 0. 0. 0.]\n",
      " ...\n",
      " [0. 0. 0. ... 0. 0. 0.]\n",
      " [0. 0. 0. ... 0. 0. 0.]\n",
      " [0. 0. 0. ... 0. 0. 0.]]\n",
      "[['na' 'c-kit']\n",
      " ['na' 'Sca-1']\n",
      " ['na' 'CD150']\n",
      " ['na' 'CD11b']\n",
      " ['na' 'B220']\n",
      " ['na' 'TCRB']\n",
      " ['na' 'CD4']\n",
      " ['na' 'CD8']]\n",
      "\n",
      "[[0. 0. 0. ... 0. 0. 0.]\n",
      " [0. 0. 0. ... 0. 0. 0.]\n",
      " [0. 0. 0. ... 0. 0. 0.]\n",
      " ...\n",
      " [0. 0. 0. ... 0. 0. 0.]\n",
      " [0. 0. 0. ... 0. 0. 0.]\n",
      " [0. 0. 0. ... 0. 0. 0.]]\n",
      "[['na' 'c-kit']\n",
      " ['na' 'Sca-1']\n",
      " ['na' 'CD150']\n",
      " ['na' 'CD11b']\n",
      " ['na' 'B220']\n",
      " ['na' 'TCRB']\n",
      " ['na' 'CD4']\n",
      " ['na' 'CD8']]\n",
      "\n",
      "[[0. 0. 0. ... 0. 0. 0.]\n",
      " [0. 0. 0. ... 0. 0. 0.]\n",
      " [0. 0. 0. ... 0. 0. 0.]\n",
      " ...\n",
      " [0. 0. 0. ... 0. 0. 0.]\n",
      " [0. 0. 0. ... 0. 0. 0.]\n",
      " [0. 0. 0. ... 0. 0. 0.]]\n",
      "[['na' 'c-kit']\n",
      " ['na' 'Sca-1']\n",
      " ['na' 'CD150']\n",
      " ['na' 'CD11b']\n",
      " ['na' 'B220']\n",
      " ['na' 'TCRB']\n",
      " ['na' 'CD4']\n",
      " ['na' 'CD8']]\n",
      "\n"
     ]
    }
   ],
   "source": [
    "cluster_num = 50\n",
    "prompt_dict = { }\n",
    "for x in range(cluster_num):\n",
    "    prop_clus = get_shap_val(og_data, markers_list, x, model='xgb')\n",
    "    print(prop_clus)\n",
    "    prompt_dict[x] = prop_clus"
   ]
  },
  {
   "cell_type": "code",
   "execution_count": 10,
   "metadata": {},
   "outputs": [],
   "source": [
    "init_prompt = \"Identify cell types of human pbmc using the following protein concentrations. Identify one cell type for each row. Only provide the cell type name.\"\n",
    "for x in prompt_dict:\n",
    "    init_prompt += \"\\n\" + prompt_dict[x]"
   ]
  },
  {
   "cell_type": "code",
   "execution_count": 11,
   "metadata": {},
   "outputs": [
    {
     "data": {
      "text/plain": [
       "'Identify cell types of human pbmc using the following protein concentrations. Identify one cell type for each row. Only provide the cell type name.\\nlow CD11b\\nhigh CD11b\\n\\n\\n\\n\\n\\n\\n\\n\\n\\n\\n\\n\\n\\n\\n\\n\\n\\n\\n\\n\\n\\n\\n\\n\\n\\n\\n\\n\\n\\n\\n\\n\\n\\n\\n\\n\\n\\n\\n\\n\\n\\n\\n\\n\\n\\n\\n\\n'"
      ]
     },
     "execution_count": 11,
     "metadata": {},
     "output_type": "execute_result"
    }
   ],
   "source": [
    "init_prompt"
   ]
  },
  {
   "cell_type": "code",
   "execution_count": 9,
   "metadata": {},
   "outputs": [
    {
     "data": {
      "text/plain": [
       "{0: 'low CD11b',\n",
       " 1: 'high CD11b',\n",
       " 2: '',\n",
       " 3: '',\n",
       " 4: '',\n",
       " 5: '',\n",
       " 6: '',\n",
       " 7: '',\n",
       " 8: '',\n",
       " 9: '',\n",
       " 10: '',\n",
       " 11: '',\n",
       " 12: '',\n",
       " 13: '',\n",
       " 14: '',\n",
       " 15: '',\n",
       " 16: '',\n",
       " 17: '',\n",
       " 18: '',\n",
       " 19: '',\n",
       " 20: '',\n",
       " 21: '',\n",
       " 22: '',\n",
       " 23: '',\n",
       " 24: '',\n",
       " 25: '',\n",
       " 26: '',\n",
       " 27: '',\n",
       " 28: '',\n",
       " 29: '',\n",
       " 30: '',\n",
       " 31: '',\n",
       " 32: '',\n",
       " 33: '',\n",
       " 34: '',\n",
       " 35: '',\n",
       " 36: '',\n",
       " 37: '',\n",
       " 38: '',\n",
       " 39: '',\n",
       " 40: '',\n",
       " 41: '',\n",
       " 42: '',\n",
       " 43: '',\n",
       " 44: '',\n",
       " 45: '',\n",
       " 46: '',\n",
       " 47: '',\n",
       " 48: '',\n",
       " 49: ''}"
      ]
     },
     "execution_count": 9,
     "metadata": {},
     "output_type": "execute_result"
    }
   ],
   "source": [
    "prompt_dict"
   ]
  }
 ],
 "metadata": {
  "kernelspec": {
   "display_name": "testpy3",
   "language": "python",
   "name": "python3"
  },
  "language_info": {
   "codemirror_mode": {
    "name": "ipython",
    "version": 3
   },
   "file_extension": ".py",
   "mimetype": "text/x-python",
   "name": "python",
   "nbconvert_exporter": "python",
   "pygments_lexer": "ipython3",
   "version": "3.9.10"
  },
  "orig_nbformat": 4
 },
 "nbformat": 4,
 "nbformat_minor": 2
}
